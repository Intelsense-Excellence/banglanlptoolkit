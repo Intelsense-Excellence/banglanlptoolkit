{
 "cells": [
  {
   "cell_type": "code",
   "execution_count": 1,
   "metadata": {},
   "outputs": [
    {
     "ename": "ModuleNotFoundError",
     "evalue": "No module named 'bnunicodenormalizer'",
     "output_type": "error",
     "traceback": [
      "\u001b[0;31m---------------------------------------------------------------------------\u001b[0m",
      "\u001b[0;31mModuleNotFoundError\u001b[0m                       Traceback (most recent call last)",
      "\u001b[1;32m/home/kabir/ACI Work/NLP/banglanlptoolkit/test.ipynb Cell 1\u001b[0m line \u001b[0;36m1\n\u001b[0;32m----> <a href='vscode-notebook-cell://ssh-remote%2B7b22686f73744e616d65223a224b61626972576f726b73746174696f6e227d/home/kabir/ACI%20Work/NLP/banglanlptoolkit/test.ipynb#W0sdnNjb2RlLXJlbW90ZQ%3D%3D?line=0'>1</a>\u001b[0m \u001b[39mfrom\u001b[39;00m \u001b[39mbanglanlptoolkit\u001b[39;00m \u001b[39mimport\u001b[39;00m BnNLPNormalizer\n\u001b[1;32m      <a href='vscode-notebook-cell://ssh-remote%2B7b22686f73744e616d65223a224b61626972576f726b73746174696f6e227d/home/kabir/ACI%20Work/NLP/banglanlptoolkit/test.ipynb#W0sdnNjb2RlLXJlbW90ZQ%3D%3D?line=1'>2</a>\u001b[0m normalizer \u001b[39m=\u001b[39m BnNLPNormalizer()\n\u001b[1;32m      <a href='vscode-notebook-cell://ssh-remote%2B7b22686f73744e616d65223a224b61626972576f726b73746174696f6e227d/home/kabir/ACI%20Work/NLP/banglanlptoolkit/test.ipynb#W0sdnNjb2RlLXJlbW90ZQ%3D%3D?line=2'>3</a>\u001b[0m display(normalizer\u001b[39m.\u001b[39mnormalize_bn([\u001b[39m'\u001b[39m\u001b[39mপাশে অবস্থিত one সংক্ষিপ্ত পূর্ব-পশ্চিম অভিমুখি অনিয়মিত অর্ধবৃত্তাকার সড়ক।\u001b[39m\u001b[39m'\u001b[39m]))\n",
      "File \u001b[0;32m~/ACI Work/NLP/banglanlptoolkit/banglanlptoolkit/__init__.py:1\u001b[0m\n\u001b[0;32m----> 1\u001b[0m \u001b[39mfrom\u001b[39;00m \u001b[39m.\u001b[39;00m\u001b[39mBnNLPNormalizer\u001b[39;00m \u001b[39mimport\u001b[39;00m BnNLPNormalizer\n\u001b[1;32m      2\u001b[0m \u001b[39mfrom\u001b[39;00m \u001b[39m.\u001b[39;00m\u001b[39mSeq2SeqAug\u001b[39;00m \u001b[39mimport\u001b[39;00m Seq2SeqAug\n\u001b[1;32m      3\u001b[0m \u001b[39mfrom\u001b[39;00m \u001b[39m.\u001b[39;00m\u001b[39mSequenceClassificationAug\u001b[39;00m \u001b[39mimport\u001b[39;00m SequenceClassificationAug\n",
      "File \u001b[0;32m~/ACI Work/NLP/banglanlptoolkit/banglanlptoolkit/BnNLPNormalizer.py:1\u001b[0m\n\u001b[0;32m----> 1\u001b[0m \u001b[39mfrom\u001b[39;00m \u001b[39mbnunicodenormalizer\u001b[39;00m \u001b[39mimport\u001b[39;00m Normalizer\n\u001b[1;32m      2\u001b[0m \u001b[39mfrom\u001b[39;00m \u001b[39mnormalizer\u001b[39;00m \u001b[39mimport\u001b[39;00m normalize\n\u001b[1;32m      3\u001b[0m \u001b[39mfrom\u001b[39;00m \u001b[39mtransformers\u001b[39;00m \u001b[39mimport\u001b[39;00m pipeline\n",
      "\u001b[0;31mModuleNotFoundError\u001b[0m: No module named 'bnunicodenormalizer'"
     ]
    }
   ],
   "source": [
    "from banglanlptoolkit import BnNLPNormalizer\n",
    "normalizer = BnNLPNormalizer()\n",
    "display(normalizer.normalize_bn(['পাশে অবস্থিত one সংক্ষিপ্ত পূর্ব-পশ্চিম অভিমুখি অনিয়মিত অর্ধবৃত্তাকার সড়ক।']))\n",
    "display(normalizer.unicode_normalize('পাশে অবস্থিত one সংক্ষিপ্ত পূর্ব-পশ্চিম অভিমুখি অনিয়মিত অর্ধবৃত্তাকার সড়ক।'))"
   ]
  },
  {
   "cell_type": "code",
   "execution_count": 3,
   "metadata": {},
   "outputs": [
    {
     "name": "stdout",
     "output_type": "stream",
     "text": [
      "\n",
      "==========Please wait while the models are being loaded==========\n",
      "\n"
     ]
    },
    {
     "name": "stderr",
     "output_type": "stream",
     "text": [
      "You are using the default legacy behaviour of the <class 'transformers.models.t5.tokenization_t5.T5Tokenizer'>. This is expected, and simply means that the `legacy` (previous) behavior will be used so nothing changes for you. If you want to use the new behaviour, set `legacy=False`. This should only be set if you understand what it means, and thouroughly read the reason why this was added as explained in https://github.com/huggingface/transformers/pull/24565\n"
     ]
    },
    {
     "name": "stdout",
     "output_type": "stream",
     "text": [
      "\n",
      "=========================MODEL ARE LOADED=========================\n"
     ]
    }
   ],
   "source": [
    "from banglanlptoolkit.BanglaAugmentation import AugmentationBangla\n",
    "augmentations = AugmentationBangla()"
   ]
  },
  {
   "cell_type": "code",
   "execution_count": 4,
   "metadata": {},
   "outputs": [
    {
     "data": {
      "text/plain": [
       "{'sentence': ['পাশে অবস্থিত একটি সংক্ষিপ্ত পূর্ব - পশ্চিম অভিমুখি অনিয়মিত অর্ধবৃত্তাকার ।',\n",
       "  'সড়কটি অপর অঙ্গরাজ্য সড়ক ৭৯ হতে উদ্ভুত হয়ে বাক-আই হ্রদের সমান্তরালে থেকে পুনরায় একই সড়কে মিশেছে।',\n",
       "  'এসআর ৩৬০ সড়কের বেশিরভাগ অংশই ফেয়ারফিল্ড কাউন্টিতে, তবে লিকিং কাউন্টিতেও এর কিছু অংশ রয়েছে ।',\n",
       "  'এটি বাকআই হ্রদের উত্তর তীরের পূর্ব অংশের সাথে সমান্তরালে']}"
      ]
     },
     "metadata": {},
     "output_type": "display_data"
    },
    {
     "name": "stderr",
     "output_type": "stream",
     "text": [
      "100%|██████████| 1/1 [00:00<00:00,  1.30it/s]\n"
     ]
    },
    {
     "data": {
      "text/plain": [
       "{'sentence': ['পূর্ব-পশ্চিমে একটি ছোট অনিয়মিত অর্ধবৃত্তাকার রাস্তা রয়েছে।',\n",
       "  'রাস্তাটি লেক বাক-ই এর সমান্তরালে আরেকটি রাজ্য সড়ক ৭৯ থেকে উৎপন্ন হয় এবং তারপর একই রাস্তায় পুনরায় যুক্ত হয়।',\n",
       "  'এসআর ৩৬০ এর বেশিরভাগ অংশ ফেয়ারফিল্ড কাউন্টিতে অবস্থিত।',\n",
       "  'এটি বাকাইয়ের উত্তর তীরের একটি অংশের সমান্তরালে চলে গেছে।']}"
      ]
     },
     "metadata": {},
     "output_type": "display_data"
    },
    {
     "name": "stderr",
     "output_type": "stream",
     "text": [
      "  0%|          | 0/1 [00:00<?, ?it/s]/home/kabir/anaconda3/envs/nlpbn/lib/python3.8/site-packages/transformers/generation/utils.py:1355: UserWarning: Using the model-agnostic default `max_length` (=20) to control the generation length. We recommend setting `max_new_tokens` to control the maximum length of the generation.\n",
      "  warnings.warn(\n",
      "100%|██████████| 1/1 [00:00<00:00,  5.37it/s]\n"
     ]
    },
    {
     "data": {
      "text/plain": [
       "{'sentence': ['এর পাশে একটি সংক্ষিপ্ত পূর্ব-পশ্চিমমুখী অর্ধবৃত্তাকার রাস্তা রয়েছে।',\n",
       "  'রাস্তাটি অন্য রাজ্য সড়ক ৭৯ থেকে উদ্ভূত হয়ে বাক-ই হ্রদের সমান্তরালে পুনরায় একই রাস্তায় মিলিত হয়',\n",
       "  'এসআর ৩৬০ রাস্তার অধিকাংশ ফেয়ারফিল্ড কাউন্টিতে অবস্থিত, পাশাপাশি লিকিং কাউন্টির কিছু অংশ।',\n",
       "  'এটি বাকআই হ্রদের উত্তর তীরের একটি অংশের সমান্তরাল।']}"
      ]
     },
     "metadata": {},
     "output_type": "display_data"
    }
   ],
   "source": [
    "test_data=['পাশে অবস্থিত একটি সংক্ষিপ্ত পূর্ব-পশ্চিম অভিমুখি অনিয়মিত অর্ধবৃত্তাকার সড়ক।',\n",
    "            'সড়কটি অপর অঙ্গরাজ্য সড়ক ৭৯ হতে উদ্ভুত হয়ে বাক-আই হ্রদের সমান্তরালে থেকে পুনরায় একই সড়কে মিশেছে।',\n",
    "            'এসআর ৩৬০ সড়কের বেশিরভাগ অংশই ফেয়ারফিল্ড কাউন্টিতে, পাশাপাশি লিকিং কাউন্টিতেও এর কিছু অংশ রয়েছে।',\n",
    "            'এটি বাকআই হ্রদের উত্তর তীরের একটি অংশের সাথে সমান্তরালে']\n",
    "\n",
    "display(augmentations.Unmasking(test_data))\n",
    "display(augmentations.BackTranslation(test_data))\n",
    "display(augmentations.ParaPhrase(test_data))"
   ]
  },
  {
   "cell_type": "code",
   "execution_count": 5,
   "metadata": {},
   "outputs": [
    {
     "name": "stdout",
     "output_type": "stream",
     "text": [
      "\n",
      "==========Please wait while the models are being loaded==========\n",
      "\n",
      "\n",
      "=========================MODEL ARE LOADED=========================\n"
     ]
    }
   ],
   "source": [
    "from banglanlptoolkit import SequenceClassificationAug\n",
    "seq2seq = SequenceClassificationAug(allow_en=True,translate_en=False,punct_replacement_token=None)"
   ]
  },
  {
   "cell_type": "code",
   "execution_count": 6,
   "metadata": {},
   "outputs": [
    {
     "name": "stderr",
     "output_type": "stream",
     "text": [
      "  0%|          | 0/1 [00:00<?, ?it/s]"
     ]
    },
    {
     "name": "stderr",
     "output_type": "stream",
     "text": [
      "100%|██████████| 1/1 [00:00<00:00,  1.37it/s]\n",
      "100%|██████████| 1/1 [00:00<00:00,  5.38it/s]\n"
     ]
    },
    {
     "data": {
      "text/plain": [
       "{'sentence': ['পাশে অবস্থিত একটি সংক্ষিপ্ত পূর্ব - পশ্চিম অর্ধবৃত্তাকার ।',\n",
       "  'অপর অঙ্গরাজ্য ৭৯ হতে উদ্ভুত বাক - আইল্যান্ডের সমান্তরালে থেকে একই মিশেছে ।',\n",
       "  'এসআর ৩৬০ এর বেশিরভাগ অংশই কাউন্টিতে, পাশাপাশি লিকিং কাউন্টিতেও এর কিছু অংশ ।',\n",
       "  'এটি বাকআইর উত্তর তীরের একটি অংশের সাথে সমান্তরালে',\n",
       "  'পূর্ব-পশ্চিমে একটি ছোট অনিয়মিত অর্ধবৃত্তাকার রাস্তা রয়েছে।',\n",
       "  'রাস্তাটি লেক বাক-ই এর সমান্তরালে আরেকটি রাজ্য সড়ক ৭৯ থেকে উৎপন্ন হয় এবং তারপর একই রাস্তায় পুনরায় যুক্ত হয়।',\n",
       "  'এসআর ৩৬০ এর বেশিরভাগ অংশ ফেয়ারফিল্ড কাউন্টিতে অবস্থিত।',\n",
       "  'এটি বাকাইয়ের উত্তর তীরের একটি অংশের সমান্তরালে চলে গেছে।',\n",
       "  'এর পাশে একটি সংক্ষিপ্ত পূর্ব-পশ্চিমমুখী অর্ধবৃত্তাকার রাস্তা রয়েছে।',\n",
       "  'রাস্তাটি অন্য রাজ্য সড়ক ৭৯ থেকে উদ্ভূত হয়ে বাক-ই হ্রদের সমান্তরালে পুনরায় একই রাস্তায় মিলিত হয়',\n",
       "  'এসআর ৩৬০ রাস্তার অধিকাংশ ফেয়ারফিল্ড কাউন্টিতে অবস্থিত, পাশাপাশি লিকিং কাউন্টির কিছু অংশ।',\n",
       "  'এটি বাকআই হ্রদের উত্তর তীরের একটি অংশের সমান্তরাল।'],\n",
       " 'label': [0, 1, 2, 3, 0, 1, 2, 3, 0, 1, 2, 3]}"
      ]
     },
     "metadata": {},
     "output_type": "display_data"
    }
   ],
   "source": [
    "import pandas as pd\n",
    "test_data=pd.DataFrame({'sentence':['পাশে অবস্থিত একটি সংক্ষিপ্ত পূর্ব-পশ্চিম অভিমুখি অনিয়মিত অর্ধবৃত্তাকার সড়ক।',\n",
    "            'সড়কটি অপর অঙ্গরাজ্য সড়ক ৭৯ হতে উদ্ভুত হয়ে বাক-আই হ্রদের সমান্তরালে থেকে পুনরায় একই সড়কে মিশেছে।',\n",
    "            'এসআর ৩৬০ সড়কের বেশিরভাগ অংশই ফেয়ারফিল্ড কাউন্টিতে, পাশাপাশি লিকিং কাউন্টিতেও এর কিছু অংশ রয়েছে।',\n",
    "            'এটি বাকআই হ্রদের উত্তর তীরের একটি অংশের সাথে সমান্তরালে'],'label':[0,1,2,3]})\n",
    "\n",
    "display(seq2seq.BnAugSeqClassification(df=test_data,iters=1))"
   ]
  },
  {
   "cell_type": "code",
   "execution_count": 7,
   "metadata": {},
   "outputs": [
    {
     "name": "stdout",
     "output_type": "stream",
     "text": [
      "\n",
      "==========Please wait while the models are being loaded==========\n",
      "\n",
      "\n",
      "=========================MODEL ARE LOADED=========================\n"
     ]
    }
   ],
   "source": [
    "from banglanlptoolkit import Seq2SeqAug\n",
    "seq2seq = Seq2SeqAug(allow_en=True,translate_en=False,punct_replacement_token=None)"
   ]
  },
  {
   "cell_type": "code",
   "execution_count": 8,
   "metadata": {},
   "outputs": [
    {
     "name": "stderr",
     "output_type": "stream",
     "text": [
      "  0%|          | 0/1 [00:00<?, ?it/s]"
     ]
    },
    {
     "name": "stderr",
     "output_type": "stream",
     "text": [
      "100%|██████████| 1/1 [00:00<00:00,  1.43it/s]\n",
      "100%|██████████| 1/1 [00:00<00:00,  1.47it/s]\n",
      "100%|██████████| 1/1 [00:00<00:00,  5.57it/s]\n",
      "100%|██████████| 1/1 [00:00<00:00,  5.51it/s]\n"
     ]
    },
    {
     "data": {
      "text/plain": [
       "{'sentence1': ['পাশে অবস্থিত একটি সংক্ষিপ্ত অভিমুখি অর্ধবৃত্তাকার ।',\n",
       "  'অপর অঙ্গরাজ্য ৭৯ হতে উদ্ভুত বাক - আই হ্রদের সমান্তরালে থেকে একই মিশেছে ।',\n",
       "  'এসআর ৩৬০ বেশিরভাগ অংশই কাউন্টিতে, পাশাপাশি লিকিং কাউন্টিতেও বেশ কিছু অংশ ।',\n",
       "  'এটি বাকআই হ্রদের উত্তর তীরের পূর্ব অংশের সাথে সমান্তরালে',\n",
       "  'পূর্ব-পশ্চিমে একটি ছোট অনিয়মিত অর্ধবৃত্তাকার রাস্তা রয়েছে।',\n",
       "  'রাস্তাটি লেক বাক-ই এর সমান্তরালে আরেকটি রাজ্য সড়ক ৭৯ থেকে উৎপন্ন হয় এবং তারপর একই রাস্তায় পুনরায় যুক্ত হয়।',\n",
       "  'এসআর ৩৬০ এর বেশিরভাগ অংশ ফেয়ারফিল্ড কাউন্টিতে অবস্থিত।',\n",
       "  'এটি বাকাইয়ের উত্তর তীরের একটি অংশের সমান্তরালে চলে গেছে।',\n",
       "  'এর পাশে একটি সংক্ষিপ্ত পূর্ব-পশ্চিমমুখী অর্ধবৃত্তাকার রাস্তা রয়েছে।',\n",
       "  'রাস্তাটি অন্য রাজ্য সড়ক ৭৯ থেকে উদ্ভূত হয়ে বাক-ই হ্রদের সমান্তরালে পুনরায় একই রাস্তায় মিলিত হয়',\n",
       "  'এসআর ৩৬০ রাস্তার অধিকাংশ ফেয়ারফিল্ড কাউন্টিতে অবস্থিত, পাশাপাশি লিকিং কাউন্টির কিছু অংশ।',\n",
       "  'এটি বাকআই হ্রদের উত্তর তীরের একটি অংশের সমান্তরাল।'],\n",
       " 'sentence2': ['পাশে অবস্থিত একটি সংক্ষিপ্ত পূর্ব - পশ্চিম অভিমুখি অর্ধবৃত্তাকার ।',\n",
       "  'অপর প্রান্তে ৭৯ হতে উদ্ভুত বাক - আই হ্রদের সমান্তরালে থেকে একই মিশেছে ।',\n",
       "  'এসআর ৩৬০ বেশিরভাগ অংশই কাউন্টিতে, পাশাপাশি লিকিং - এর কিছু অংশ ।',\n",
       "  'বাকআই হ্রদের উত্তর তীরের একটি অংশের সাথে সমান্তরালে',\n",
       "  'পূর্ব-পশ্চিমে একটি ছোট অনিয়মিত অর্ধবৃত্তাকার রাস্তা রয়েছে।',\n",
       "  'রাস্তাটি লেক বাক-ই এর সমান্তরালে আরেকটি রাজ্য সড়ক ৭৯ থেকে উৎপন্ন হয় এবং তারপর একই রাস্তায় পুনরায় যুক্ত হয়।',\n",
       "  'এসআর ৩৬০ এর বেশিরভাগ অংশ ফেয়ারফিল্ড কাউন্টিতে অবস্থিত।',\n",
       "  'এটি বাকাইয়ের উত্তর তীরের একটি অংশের সমান্তরালে চলে গেছে।',\n",
       "  'এর পাশে একটি সংক্ষিপ্ত পূর্ব-পশ্চিমমুখী অর্ধবৃত্তাকার রাস্তা রয়েছে।',\n",
       "  'রাস্তাটি অন্য রাজ্য সড়ক ৭৯ থেকে উদ্ভূত হয়ে বাক-ই হ্রদের সমান্তরালে পুনরায় একই রাস্তায় মিলিত হয়',\n",
       "  'এসআর ৩৬০ রাস্তার অধিকাংশ ফেয়ারফিল্ড কাউন্টিতে অবস্থিত, পাশাপাশি লিকিং কাউন্টির কিছু অংশ।',\n",
       "  'এটি বাকআই হ্রদের উত্তর তীরের একটি অংশের সমান্তরাল।']}"
      ]
     },
     "metadata": {},
     "output_type": "display_data"
    }
   ],
   "source": [
    "import pandas as pd\n",
    "test_data=pd.DataFrame({'sentence1':['পাশে অবস্থিত একটি সংক্ষিপ্ত পূর্ব-পশ্চিম অভিমুখি অনিয়মিত অর্ধবৃত্তাকার সড়ক।',\n",
    "            'সড়কটি অপর অঙ্গরাজ্য সড়ক ৭৯ হতে উদ্ভুত হয়ে বাক-আই হ্রদের সমান্তরালে থেকে পুনরায় একই সড়কে মিশেছে।',\n",
    "            'এসআর ৩৬০ সড়কের বেশিরভাগ অংশই ফেয়ারফিল্ড কাউন্টিতে, পাশাপাশি লিকিং কাউন্টিতেও এর কিছু অংশ রয়েছে।',\n",
    "            'এটি বাকআই হ্রদের উত্তর তীরের একটি অংশের সাথে সমান্তরালে'],'sentence2':['পাশে অবস্থিত একটি সংক্ষিপ্ত পূর্ব-পশ্চিম অভিমুখি অনিয়মিত অর্ধবৃত্তাকার সড়ক।',\n",
    "            'সড়কটি অপর অঙ্গরাজ্য সড়ক ৭৯ হতে উদ্ভুত হয়ে বাক-আই হ্রদের সমান্তরালে থেকে পুনরায় একই সড়কে মিশেছে।',\n",
    "            'এসআর ৩৬০ সড়কের বেশিরভাগ অংশই ফেয়ারফিল্ড কাউন্টিতে, পাশাপাশি লিকিং কাউন্টিতেও এর কিছু অংশ রয়েছে।',\n",
    "            'এটি বাকআই হ্রদের উত্তর তীরের একটি অংশের সাথে সমান্তরালে']})\n",
    "\n",
    "display(seq2seq.BnAugSeq2Seq(df=test_data,iters=1))"
   ]
  }
 ],
 "metadata": {
  "kernelspec": {
   "display_name": "NLP",
   "language": "python",
   "name": "python3"
  },
  "language_info": {
   "codemirror_mode": {
    "name": "ipython",
    "version": 3
   },
   "file_extension": ".py",
   "mimetype": "text/x-python",
   "name": "python",
   "nbconvert_exporter": "python",
   "pygments_lexer": "ipython3",
   "version": "3.8.0"
  }
 },
 "nbformat": 4,
 "nbformat_minor": 2
}
